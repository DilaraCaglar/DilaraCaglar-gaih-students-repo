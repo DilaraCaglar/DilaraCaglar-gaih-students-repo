{
 "cells": [
  {
   "cell_type": "code",
   "execution_count": 1,
   "metadata": {},
   "outputs": [],
   "source": [
    "d1= {\"Lina Williams cv\": [\"Birthdate: 26 July 1997\", \"Age: 24\", \"Adress:London, UK\", \"Job Title: Dentist\"] }"
   ]
  },
  {
   "cell_type": "code",
   "execution_count": 2,
   "metadata": {},
   "outputs": [
    {
     "data": {
      "text/plain": [
       "{'Lina Williams cv': ['Birthdate: 26 July 1997',\n",
       "  'Age: 24',\n",
       "  'Adress:London, UK',\n",
       "  'Job Title: Dentist']}"
      ]
     },
     "execution_count": 2,
     "metadata": {},
     "output_type": "execute_result"
    }
   ],
   "source": [
    "d1"
   ]
  },
  {
   "cell_type": "code",
   "execution_count": 3,
   "metadata": {},
   "outputs": [],
   "source": [
    "d2= {\"Mirana Evans cv\": [\"Birthdate: 3 April 1990\", \"Age: 31\", \"Adress:New York, US\", \"Job Title: Engineer\"]}"
   ]
  },
  {
   "cell_type": "code",
   "execution_count": 4,
   "metadata": {},
   "outputs": [
    {
     "data": {
      "text/plain": [
       "{'Mirana Evans cv': ['Birthdate: 3 April 1990',\n",
       "  'Age: 31',\n",
       "  'Adress:New York, US',\n",
       "  'Job Title: Engineer']}"
      ]
     },
     "execution_count": 4,
     "metadata": {},
     "output_type": "execute_result"
    }
   ],
   "source": [
    "d2"
   ]
  },
  {
   "cell_type": "code",
   "execution_count": 5,
   "metadata": {},
   "outputs": [],
   "source": [
    "d3= {'Clark Kent cv': [\"Birthdate: 5 May 1983 \",\"Age: 37\",\"Adress:Kansas, US\",\"Job Title: Journalist\"]}"
   ]
  },
  {
   "cell_type": "code",
   "execution_count": 6,
   "metadata": {},
   "outputs": [
    {
     "data": {
      "text/plain": [
       "{'Clark Kent cv': ['Birthdate: 5 May 1983 ',\n",
       "  'Age: 37',\n",
       "  'Adress:Kansas, US',\n",
       "  'Job Title: Journalist']}"
      ]
     },
     "execution_count": 6,
     "metadata": {},
     "output_type": "execute_result"
    }
   ],
   "source": [
    "d3"
   ]
  },
  {
   "cell_type": "code",
   "execution_count": 7,
   "metadata": {},
   "outputs": [],
   "source": [
    "d4= {\"Ember Spirit cv\": [\"Birthdate: 27 August 2000 \",\"Age: 20\",\"Adress:London, UK\",\"Job Title: Fireman\"]}"
   ]
  },
  {
   "cell_type": "code",
   "execution_count": 8,
   "metadata": {},
   "outputs": [
    {
     "data": {
      "text/plain": [
       "{'Ember Spirit cv': ['Birthdate: 27 August 2000 ',\n",
       "  'Age: 20',\n",
       "  'Adress:London, UK',\n",
       "  'Job Title: Fireman']}"
      ]
     },
     "execution_count": 8,
     "metadata": {},
     "output_type": "execute_result"
    }
   ],
   "source": [
    "d4"
   ]
  },
  {
   "cell_type": "code",
   "execution_count": 9,
   "metadata": {},
   "outputs": [],
   "source": [
    "d5= {\"Luna Murphy cv\":[\"Birthdate: 18 June 2001 \",\"Age: 19\",\"Adress: Dublin Ireland\",\"Job Title: Student at Dublin City University\"]}"
   ]
  },
  {
   "cell_type": "code",
   "execution_count": 10,
   "metadata": {},
   "outputs": [
    {
     "data": {
      "text/plain": [
       "{'Luna Murphy cv': ['Birthdate: 18 June 2001 ',\n",
       "  'Age: 19',\n",
       "  'Adress: Dublin Ireland',\n",
       "  'Job Title: Student at Dublin City University']}"
      ]
     },
     "execution_count": 10,
     "metadata": {},
     "output_type": "execute_result"
    }
   ],
   "source": [
    "d5"
   ]
  }
 ],
 "metadata": {
  "kernelspec": {
   "display_name": "Python 3",
   "language": "python",
   "name": "python3"
  },
  "language_info": {
   "codemirror_mode": {
    "name": "ipython",
    "version": 3
   },
   "file_extension": ".py",
   "mimetype": "text/x-python",
   "name": "python",
   "nbconvert_exporter": "python",
   "pygments_lexer": "ipython3",
   "version": "3.8.5"
  }
 },
 "nbformat": 4,
 "nbformat_minor": 4
}
