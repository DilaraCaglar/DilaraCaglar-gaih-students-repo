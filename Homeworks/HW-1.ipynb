{
 "cells": [
  {
   "cell_type": "code",
   "execution_count": 1,
   "metadata": {},
   "outputs": [
    {
     "name": "stdout",
     "output_type": "stream",
     "text": [
      "[0, 2, 4, 6, 8]\n",
      "[1, 3, 5, 7, 9]\n",
      "0: <class 'int'>\n",
      "2: <class 'int'>\n",
      "4: <class 'int'>\n",
      "6: <class 'int'>\n",
      "8: <class 'int'>\n",
      "1: <class 'int'>\n",
      "3: <class 'int'>\n",
      "5: <class 'int'>\n",
      "7: <class 'int'>\n",
      "9: <class 'int'>\n"
     ]
    }
   ],
   "source": [
    "nums = list(range(10))\n",
    "\n",
    "even= [i*1 for i in nums if i % 2 == 0]\n",
    "\n",
    "odd = [i*1 for i in nums if i% 2 == 1]\n",
    "\n",
    "print(even)\n",
    "print(odd)\n",
    "\n",
    "total= even + odd\n",
    "\n",
    "for number in total:\n",
    "    \n",
    "    print(\"{}: {}\".format(number, type(number)))"
   ]
  }
 ],
 "metadata": {
  "kernelspec": {
   "display_name": "Python 3",
   "language": "python",
   "name": "python3"
  },
  "language_info": {
   "codemirror_mode": {
    "name": "ipython",
    "version": 3
   },
   "file_extension": ".py",
   "mimetype": "text/x-python",
   "name": "python",
   "nbconvert_exporter": "python",
   "pygments_lexer": "ipython3",
   "version": "3.8.5"
  }
 },
 "nbformat": 4,
 "nbformat_minor": 4
}
