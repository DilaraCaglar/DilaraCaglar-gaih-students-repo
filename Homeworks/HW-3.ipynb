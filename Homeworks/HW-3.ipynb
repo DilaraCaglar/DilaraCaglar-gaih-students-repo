{
 "cells": [
  {
   "cell_type": "code",
   "execution_count": 1,
   "metadata": {},
   "outputs": [
    {
     "name": "stdout",
     "output_type": "stream",
     "text": [
      "**********PASSİNG GRADE CALCULATOR**********\n",
      "Midterm Grade :80\n",
      "Project Grade :60\n",
      "Final Grade :70\n",
      "Your Passing Grade is: 70.0 \n"
     ]
    }
   ],
   "source": [
    "print(\"**********PASSİNG GRADE CALCULATOR**********\" )\n",
    "\n",
    "midterm = input(\"Midterm Grade :\")\n",
    "project= input(\"Project Grade :\")\n",
    "final = input(\"Final Grade :\")\n",
    "\n",
    "passing= (float(midterm)*0.3)+ (float(project)*0.3)+ (float(final)*0.4)\n",
    "\n",
    "print(\"Your Passing Grade is: {0} \".format(passing))"
   ]
  },
  {
   "cell_type": "code",
   "execution_count": 2,
   "metadata": {},
   "outputs": [
    {
     "name": "stdout",
     "output_type": "stream",
     "text": [
      "**********STUDENT GRADE INFORMATION**********\n",
      "Please enter your studentID: 2\n",
      "{'student2': ['midterm grade: 55', 'project grade: 70', 'final garade: 50', 'passing grade: 57.5']}\n"
     ]
    }
   ],
   "source": [
    "print(\"**********STUDENT GRADE INFORMATION**********\")\n",
    "\n",
    "d1= {\"student1\": [\"midterm grade: 80\", \"project grade: 60\", \"final garade: 70\", \"passing grade: 70.0\"] }\n",
    "d2= {\"student2\": [\"midterm grade: 55\", \"project grade: 70\", \"final garade: 50\", \"passing grade: 57.5\"] }\n",
    "d3= {\"student3\": [\"midterm grade: 60\", \"project grade: 50\", \"final garade: 60\", \"passing grade: 57.0\"] }\n",
    "d4= {\"student4\": [\"midterm grade: 90\", \"project grade: 85\", \"final garade: 95\", \"passing grade: 90.5\"] } \n",
    "d5= {\"student5\": [\"midterm grade: 70\", \"project grade: 75\", \"final garade: 85\", \"passing grade: 77.5\"] }\n",
    "\n",
    "studentID = int(input(\"Please enter your studentID: \"))\n",
    "\n",
    "if    6 <= studentID:\n",
    "    print(\"Your studentID is wrong\")\n",
    "    \n",
    "else:\n",
    "    \n",
    "    if  0< studentID <= 1:\n",
    "        print(d1)\n",
    "    elif 1<studentID <= 2:\n",
    "        print(d2)\n",
    "    elif 2 < studentID <= 3:\n",
    "        print(d3)\n",
    "    elif 3<studentID <= 4:\n",
    "        print(d4)\n",
    "    elif 4<studentID<= 5 :  \n",
    "        print(d5)\n",
    "    else: \n",
    "        print(\"Your studentID is wrong\")"
   ]
  },
  {
   "cell_type": "code",
   "execution_count": 3,
   "metadata": {},
   "outputs": [
    {
     "data": {
      "text/plain": [
       "[90.5, 77.5, 70.0, 57.5, 57.0]"
      ]
     },
     "execution_count": 3,
     "metadata": {},
     "output_type": "execute_result"
    }
   ],
   "source": [
    "PassingGradelist= [70.0, 57.5, 57.0, 90.5, 77.5]\n",
    "\n",
    "PassingGradelist.sort()\n",
    "PassingGradelist.reverse()\n",
    "PassingGradelist"
   ]
  }
 ],
 "metadata": {
  "kernelspec": {
   "display_name": "Python 3",
   "language": "python",
   "name": "python3"
  },
  "language_info": {
   "codemirror_mode": {
    "name": "ipython",
    "version": 3
   },
   "file_extension": ".py",
   "mimetype": "text/x-python",
   "name": "python",
   "nbconvert_exporter": "python",
   "pygments_lexer": "ipython3",
   "version": "3.8.5"
  }
 },
 "nbformat": 4,
 "nbformat_minor": 4
}
